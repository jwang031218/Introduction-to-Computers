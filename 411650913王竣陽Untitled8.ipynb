{
  "nbformat": 4,
  "nbformat_minor": 0,
  "metadata": {
    "colab": {
      "provenance": [],
      "authorship_tag": "ABX9TyMvRoM0h2AoATtfSdBPuO/y",
      "include_colab_link": true
    },
    "kernelspec": {
      "name": "python3",
      "display_name": "Python 3"
    },
    "language_info": {
      "name": "python"
    }
  },
  "cells": [
    {
      "cell_type": "markdown",
      "metadata": {
        "id": "view-in-github",
        "colab_type": "text"
      },
      "source": [
        "<a href=\"https://colab.research.google.com/github/jwang031218/Introduction-to-Computers/blob/main/411650913%E7%8E%8B%E7%AB%A3%E9%99%BDUntitled8.ipynb\" target=\"_parent\"><img src=\"https://colab.research.google.com/assets/colab-badge.svg\" alt=\"Open In Colab\"/></a>"
      ]
    },
    {
      "cell_type": "code",
      "execution_count": 1,
      "metadata": {
        "colab": {
          "base_uri": "https://localhost:8080/"
        },
        "id": "yca3HCLvHPE1",
        "outputId": "eae74a7a-7f76-4afd-b374-8d6e6f391e0b"
      },
      "outputs": [
        {
          "output_type": "stream",
          "name": "stdout",
          "text": [
            "請輸入密碼5798\n",
            "歡迎光臨\n"
          ]
        }
      ],
      "source": [
        "a= int(input(\"請輸入密碼\"))\n",
        "if a==5798 :\n",
        "  print(\"歡迎光臨\")\n",
        "else:\n",
        "  print(\"密碼錯誤\")"
      ]
    },
    {
      "cell_type": "code",
      "source": [
        "a= int(input(\"請輸入密碼\"))\n",
        "if a==4512 :\n",
        " print(\"歡迎光臨\")"
      ],
      "metadata": {
        "colab": {
          "base_uri": "https://localhost:8080/"
        },
        "id": "PDL6PQ1VIDBB",
        "outputId": "668b0085-b7a6-4adb-e9a1-5f5420250c3d"
      },
      "execution_count": 2,
      "outputs": [
        {
          "output_type": "stream",
          "name": "stdout",
          "text": [
            "請輸入密碼4512\n",
            "歡迎光臨\n"
          ]
        }
      ]
    },
    {
      "cell_type": "code",
      "source": [
        "rain=(input(\"今天會下雨嗎:\"))\n",
        "if(rain=='y'or rain=='Y'):\n",
        "  print('要帶傘')\n",
        "else:\n",
        "  print('不用帶傘')"
      ],
      "metadata": {
        "colab": {
          "base_uri": "https://localhost:8080/"
        },
        "id": "XzEXSKEVInI5",
        "outputId": "4214bcef-10fb-4f65-89f7-f2fbc1961ce1"
      },
      "execution_count": 3,
      "outputs": [
        {
          "output_type": "stream",
          "name": "stdout",
          "text": [
            "今天會下雨嗎:no\n",
            "不用帶傘\n"
          ]
        }
      ]
    },
    {
      "cell_type": "code",
      "source": [
        "number=(input(\"偶數或奇數:\"))\n",
        "if(\"number%2==0\"):\n",
        "  print(\"奇數\")\n",
        "else:\n",
        "  print(\"偶數\")"
      ],
      "metadata": {
        "colab": {
          "base_uri": "https://localhost:8080/"
        },
        "id": "cgCqZY5PJJFh",
        "outputId": "d588cc51-3245-4f14-ab5e-282cea7e9b9c"
      },
      "execution_count": 4,
      "outputs": [
        {
          "output_type": "stream",
          "name": "stdout",
          "text": [
            "偶數或奇數:49\n",
            "奇數\n"
          ]
        }
      ]
    }
  ]
}