{
  "nbformat": 4,
  "nbformat_minor": 0,
  "metadata": {
    "colab": {
      "provenance": [],
      "authorship_tag": "ABX9TyO+u1I4t4r6zhSpvKx1oDP0",
      "include_colab_link": true
    },
    "kernelspec": {
      "name": "python3",
      "display_name": "Python 3"
    },
    "language_info": {
      "name": "python"
    }
  },
  "cells": [
    {
      "cell_type": "markdown",
      "metadata": {
        "id": "view-in-github",
        "colab_type": "text"
      },
      "source": [
        "<a href=\"https://colab.research.google.com/github/jwang031218/Introduction-to-Computers/blob/main/411650913.ipynb\" target=\"_parent\"><img src=\"https://colab.research.google.com/assets/colab-badge.svg\" alt=\"Open In Colab\"/></a>"
      ]
    },
    {
      "cell_type": "code",
      "execution_count": null,
      "metadata": {
        "colab": {
          "base_uri": "https://localhost:8080/"
        },
        "id": "eQbuVsaq0S5t",
        "outputId": "60668777-15f7-4839-9bfc-40e5c7a4e8fd"
      },
      "outputs": [
        {
          "output_type": "stream",
          "name": "stdout",
          "text": [
            "[0, 1, 2, 3, 4, 5, 6, 7, 8]\n",
            "[1, 2, 3, 4, 5, 6, 7, 8, 9]\n",
            "[1, 3, 5, 7, 9]\n",
            "[10, 8, 6, 4, 2]\n"
          ]
        }
      ],
      "source": [
        "list1=range(9)\n",
        "list2=range(1,10)\n",
        "list3=range(1,10,2)\n",
        "list4=range(10,1,-2)\n",
        "print(list(list1))\n",
        "print(list(list2))\n",
        "print(list(list3))\n",
        "print(list(list4))\n"
      ]
    },
    {
      "cell_type": "code",
      "source": [
        "n=int(input(\"請輸入正整數:\"))\n",
        "list1=range(1,n+1)\n",
        "print(list(list1))"
      ],
      "metadata": {
        "colab": {
          "base_uri": "https://localhost:8080/"
        },
        "id": "9ZYUXWEm1iuO",
        "outputId": "f66ccec3-dcc9-4382-b541-25a3a10ce374"
      },
      "execution_count": null,
      "outputs": [
        {
          "output_type": "stream",
          "name": "stdout",
          "text": [
            "請輸入正整數:10\n",
            "[1, 2, 3, 4, 5, 6, 7, 8, 9, 10]\n"
          ]
        }
      ]
    },
    {
      "cell_type": "code",
      "source": [
        "sum = 0\n",
        "n=int(input(\"請輸入正整數:\"))\n",
        "for n in range(1,n+1):\n",
        "  sum = sum+n\n",
        "print(sum)"
      ],
      "metadata": {
        "colab": {
          "base_uri": "https://localhost:8080/"
        },
        "id": "JQB8223-2SOX",
        "outputId": "7c439a3b-ec8d-463b-d9a5-c2d39bb86966"
      },
      "execution_count": null,
      "outputs": [
        {
          "output_type": "stream",
          "name": "stdout",
          "text": [
            "請輸入正整數:10\n",
            "55\n"
          ]
        }
      ]
    },
    {
      "cell_type": "code",
      "source": [
        "a=int(input())\n",
        "b=range(1,a+1)\n",
        "sum=0\n",
        "for i in b:\n",
        "  sum=sum+i\n",
        "  print(\"1到\",i,\"的整數和\",sum)\n",
        "  "
      ],
      "metadata": {
        "id": "Ff6JKWKI3MRe",
        "outputId": "07c0bffc-0e18-4c36-88f4-da1b4e38b2c0",
        "colab": {
          "base_uri": "https://localhost:8080/"
        }
      },
      "execution_count": null,
      "outputs": [
        {
          "output_type": "stream",
          "name": "stdout",
          "text": [
            "10\n",
            "1到 1 的整數和 1\n",
            "1到 2 的整數和 3\n",
            "1到 3 的整數和 6\n",
            "1到 4 的整數和 10\n",
            "1到 5 的整數和 15\n",
            "1到 6 的整數和 21\n",
            "1到 7 的整數和 28\n",
            "1到 8 的整數和 36\n",
            "1到 9 的整數和 45\n",
            "1到 10 的整數和 55\n"
          ]
        }
      ]
    },
    {
      "cell_type": "code",
      "source": [],
      "metadata": {
        "id": "tCJjNUv13HNJ"
      },
      "execution_count": null,
      "outputs": []
    },
    {
      "cell_type": "code",
      "source": [],
      "metadata": {
        "id": "m0ctn3Qc28eW"
      },
      "execution_count": null,
      "outputs": []
    }
  ]
}