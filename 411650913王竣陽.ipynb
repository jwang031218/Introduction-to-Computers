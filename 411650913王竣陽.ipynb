{
  "nbformat": 4,
  "nbformat_minor": 0,
  "metadata": {
    "colab": {
      "provenance": [],
      "include_colab_link": true
    },
    "kernelspec": {
      "name": "python3",
      "display_name": "Python 3"
    },
    "language_info": {
      "name": "python"
    }
  },
  "cells": [
    {
      "cell_type": "markdown",
      "metadata": {
        "id": "view-in-github",
        "colab_type": "text"
      },
      "source": [
        "<a href=\"https://colab.research.google.com/github/jwang031218/Introduction-to-Computers/blob/main/411650913%E7%8E%8B%E7%AB%A3%E9%99%BD.ipynb\" target=\"_parent\"><img src=\"https://colab.research.google.com/assets/colab-badge.svg\" alt=\"Open In Colab\"/></a>"
      ]
    },
    {
      "cell_type": "code",
      "execution_count": 2,
      "metadata": {
        "colab": {
          "base_uri": "https://localhost:8080/"
        },
        "id": "qpxhXAjlzd7U",
        "outputId": "b4a09f51-869e-4e56-b920-779605cca779"
      },
      "outputs": [
        {
          "output_type": "stream",
          "name": "stdout",
          "text": [
            "score:85\n",
            "Grade is: B\n"
          ]
        }
      ],
      "source": [
        "score=int(input(\"score:\"))\n",
        "if score >=90:\n",
        "  print('Grade is: A')\n",
        "elif score >= 80:\n",
        "  print('Grade is: B')\n",
        "\n",
        "elif score >= 70:\n",
        "  print('Grade is: C')\n",
        "\n",
        "elif score >= 60:\n",
        "  print('Grade is: D')\n",
        "else:\n",
        "  print(\"Grade is: F\")\n"
      ]
    },
    {
      "cell_type": "code",
      "source": [
        "成績=int(input(\"score:\"))\n",
        "if score >=90:\n",
        "  print('A')\n",
        "elif 89>= score >=80:\n",
        "  print('B')\n",
        "elif 79>= score >=70:\n",
        "  print('C')\n",
        "elif 69>= score >=60:\n",
        "  print('D')\n",
        "else:\n",
        "  print(\"E\")"
      ],
      "metadata": {
        "colab": {
          "base_uri": "https://localhost:8080/"
        },
        "id": "n2z8BEhcDmkX",
        "outputId": "da3433e6-87cd-4115-ae9a-cb1f18d212c7"
      },
      "execution_count": 3,
      "outputs": [
        {
          "output_type": "stream",
          "name": "stdout",
          "text": [
            "score:65\n",
            "B\n"
          ]
        }
      ]
    },
    {
      "cell_type": "code",
      "source": [
        "體溫=int(input(\"體溫:\"))\n",
        "if 體溫 >=37.5:\n",
        "  print('體溫過高')\n",
        "elif 37.4>= 體溫 >=37:\n",
        "  print('體溫略高')\n",
        "elif 36.9>= 體溫 >=34:\n",
        "  print('體溫正常')\n",
        "else:\n",
        "  print(\"體溫異常，請重新測量\")"
      ],
      "metadata": {
        "colab": {
          "base_uri": "https://localhost:8080/"
        },
        "id": "6HRjmbD_1L_q",
        "outputId": "11318b51-2e40-44cf-dec1-66eba6f6cb7c"
      },
      "execution_count": 4,
      "outputs": [
        {
          "output_type": "stream",
          "name": "stdout",
          "text": [
            "體溫:36\n",
            "體溫正常\n"
          ]
        }
      ]
    },
    {
      "cell_type": "code",
      "source": [
        "month = int(input(\"請輸入月份：\"))\n",
        "\n",
        "if month in [3, 4, 5]:\n",
        "    print(month, \"月是春天！\")\n",
        "elif month in [6, 7, 8]:\n",
        "    print(month, \"月是夏天！\")\n",
        "elif month in [9, 10, 11]:\n",
        "    print(month, \"月是秋天！\")\n",
        "elif month in [12, 1, 2]:\n",
        "    print(month, \"月是冬天！\")\n",
        "else:\n",
        "    print(\"月份不在範圍內！\")\n",
        "\n"
      ],
      "metadata": {
        "colab": {
          "base_uri": "https://localhost:8080/"
        },
        "id": "NFaC15HU7Uc6",
        "outputId": "9b24b153-1a6a-4706-d174-b05075217284"
      },
      "execution_count": 5,
      "outputs": [
        {
          "output_type": "stream",
          "name": "stdout",
          "text": [
            "請輸入月份：11\n",
            "11 月是秋天！\n"
          ]
        }
      ]
    },
    {
      "cell_type": "code",
      "source": [
        "收入=int(input(\"收入:\"))\n",
        "if 收入 >=2000000:\n",
        "  print(\"付稅金額:\",收入*0.3,\"元\")\n",
        "elif 1999999>= 收入 >=1000000:\n",
        "  print(\"付稅金額:\",收入*0.21,\"元\")\n",
        "elif 999999>= 收入 >=600000:\n",
        "  print(\"付稅金額:\",收入*0.13,\"元\")\n",
        "elif 599999>= 收入 >=300000:\n",
        "  print(\"付稅金額:\",收入*0.06,\"元\")\n",
        "else:\n",
        "  print(\"付稅金額:0元\")"
      ],
      "metadata": {
        "colab": {
          "base_uri": "https://localhost:8080/"
        },
        "id": "T5dw5fsy-ief",
        "outputId": "e0f9cf69-dcf3-4d3f-a000-5144d1bd7250"
      },
      "execution_count": 7,
      "outputs": [
        {
          "output_type": "stream",
          "name": "stdout",
          "text": [
            "收入:5555555\n",
            "付稅金額: 1666666.5 元\n"
          ]
        }
      ]
    },
    {
      "cell_type": "code",
      "source": [
        "rain = input(\"是否有下雨: \")\n",
        "\n",
        "if rain == \"Y\" or rain == \"y\":\n",
        "    print(\"出門帶傘\")\n",
        "elif rain == \"N\" or rain == \"n\":\n",
        "    print(\"不帶傘\")\n",
        "else:\n",
        "    print(\"請重新輸入\")"
      ],
      "metadata": {
        "colab": {
          "base_uri": "https://localhost:8080/"
        },
        "id": "ydUYDMAdBRqQ",
        "outputId": "b37f0722-f648-442b-aa05-33c573688d7f"
      },
      "execution_count": 8,
      "outputs": [
        {
          "output_type": "stream",
          "name": "stdout",
          "text": [
            "是否有下雨: y\n",
            "出門帶傘\n"
          ]
        }
      ]
    }
  ]
}